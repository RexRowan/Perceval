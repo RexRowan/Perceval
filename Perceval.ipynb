{
  "nbformat": 4,
  "nbformat_minor": 0,
  "metadata": {
    "colab": {
      "provenance": [],
      "authorship_tag": "ABX9TyMc+sK4k7oFgZEEDKVS+Fhv",
      "include_colab_link": true
    },
    "kernelspec": {
      "name": "python3",
      "display_name": "Python 3"
    },
    "language_info": {
      "name": "python"
    }
  },
  "cells": [
    {
      "cell_type": "markdown",
      "metadata": {
        "id": "view-in-github",
        "colab_type": "text"
      },
      "source": [
        "<a href=\"https://colab.research.google.com/github/RexRowan/Perceval/blob/main/Perceval.ipynb\" target=\"_parent\"><img src=\"https://colab.research.google.com/assets/colab-badge.svg\" alt=\"Open In Colab\"/></a>"
      ]
    },
    {
      "cell_type": "code",
      "execution_count": 1,
      "metadata": {
        "colab": {
          "base_uri": "https://localhost:8080/"
        },
        "id": "-uUMpOKGpDbO",
        "outputId": "c6110829-79bf-496f-c077-a3862968f821"
      },
      "outputs": [
        {
          "output_type": "stream",
          "name": "stdout",
          "text": [
            "Collecting perceval-quandela\n",
            "  Downloading perceval_quandela-1.0.1-py3-none-any.whl.metadata (5.7 kB)\n",
            "Requirement already satisfied: sympy~=1.12 in /usr/local/lib/python3.12/dist-packages (from perceval-quandela) (1.13.3)\n",
            "Requirement already satisfied: numpy<3,>=1.26 in /usr/local/lib/python3.12/dist-packages (from perceval-quandela) (2.0.2)\n",
            "Requirement already satisfied: scipy~=1.13 in /usr/local/lib/python3.12/dist-packages (from perceval-quandela) (1.16.2)\n",
            "Requirement already satisfied: tabulate~=0.9 in /usr/local/lib/python3.12/dist-packages (from perceval-quandela) (0.9.0)\n",
            "Requirement already satisfied: matplotlib<4 in /usr/local/lib/python3.12/dist-packages (from perceval-quandela) (3.10.0)\n",
            "Collecting exqalibur~=1.0.0 (from perceval-quandela)\n",
            "  Downloading exqalibur-1.0.0-cp312-cp312-manylinux_2_17_x86_64.manylinux2014_x86_64.whl.metadata (429 bytes)\n",
            "Requirement already satisfied: multipledispatch<2 in /usr/local/lib/python3.12/dist-packages (from perceval-quandela) (1.0.0)\n",
            "Requirement already satisfied: protobuf>=3.20.3 in /usr/local/lib/python3.12/dist-packages (from perceval-quandela) (5.29.5)\n",
            "Collecting drawsvg>=2.0 (from perceval-quandela)\n",
            "  Downloading drawsvg-2.4.0-py3-none-any.whl.metadata (19 kB)\n",
            "Requirement already satisfied: requests<3 in /usr/local/lib/python3.12/dist-packages (from perceval-quandela) (2.32.4)\n",
            "Requirement already satisfied: networkx<4,>=3.1 in /usr/local/lib/python3.12/dist-packages (from perceval-quandela) (3.5)\n",
            "Collecting latexcodec<4 (from perceval-quandela)\n",
            "  Downloading latexcodec-3.0.1-py3-none-any.whl.metadata (5.2 kB)\n",
            "Requirement already satisfied: platformdirs<5 in /usr/local/lib/python3.12/dist-packages (from perceval-quandela) (4.5.0)\n",
            "Requirement already satisfied: tqdm in /usr/local/lib/python3.12/dist-packages (from perceval-quandela) (4.67.1)\n",
            "Requirement already satisfied: contourpy>=1.0.1 in /usr/local/lib/python3.12/dist-packages (from matplotlib<4->perceval-quandela) (1.3.3)\n",
            "Requirement already satisfied: cycler>=0.10 in /usr/local/lib/python3.12/dist-packages (from matplotlib<4->perceval-quandela) (0.12.1)\n",
            "Requirement already satisfied: fonttools>=4.22.0 in /usr/local/lib/python3.12/dist-packages (from matplotlib<4->perceval-quandela) (4.60.1)\n",
            "Requirement already satisfied: kiwisolver>=1.3.1 in /usr/local/lib/python3.12/dist-packages (from matplotlib<4->perceval-quandela) (1.4.9)\n",
            "Requirement already satisfied: packaging>=20.0 in /usr/local/lib/python3.12/dist-packages (from matplotlib<4->perceval-quandela) (25.0)\n",
            "Requirement already satisfied: pillow>=8 in /usr/local/lib/python3.12/dist-packages (from matplotlib<4->perceval-quandela) (11.3.0)\n",
            "Requirement already satisfied: pyparsing>=2.3.1 in /usr/local/lib/python3.12/dist-packages (from matplotlib<4->perceval-quandela) (3.2.5)\n",
            "Requirement already satisfied: python-dateutil>=2.7 in /usr/local/lib/python3.12/dist-packages (from matplotlib<4->perceval-quandela) (2.9.0.post0)\n",
            "Requirement already satisfied: charset_normalizer<4,>=2 in /usr/local/lib/python3.12/dist-packages (from requests<3->perceval-quandela) (3.4.4)\n",
            "Requirement already satisfied: idna<4,>=2.5 in /usr/local/lib/python3.12/dist-packages (from requests<3->perceval-quandela) (3.11)\n",
            "Requirement already satisfied: urllib3<3,>=1.21.1 in /usr/local/lib/python3.12/dist-packages (from requests<3->perceval-quandela) (2.5.0)\n",
            "Requirement already satisfied: certifi>=2017.4.17 in /usr/local/lib/python3.12/dist-packages (from requests<3->perceval-quandela) (2025.10.5)\n",
            "Requirement already satisfied: mpmath<1.4,>=1.1.0 in /usr/local/lib/python3.12/dist-packages (from sympy~=1.12->perceval-quandela) (1.3.0)\n",
            "Requirement already satisfied: six>=1.5 in /usr/local/lib/python3.12/dist-packages (from python-dateutil>=2.7->matplotlib<4->perceval-quandela) (1.17.0)\n",
            "Downloading perceval_quandela-1.0.1-py3-none-any.whl (421 kB)\n",
            "\u001b[2K   \u001b[90m━━━━━━━━━━━━━━━━━━━━━━━━━━━━━━━━━━━━━━━━\u001b[0m \u001b[32m421.5/421.5 kB\u001b[0m \u001b[31m6.8 MB/s\u001b[0m eta \u001b[36m0:00:00\u001b[0m\n",
            "\u001b[?25hDownloading drawsvg-2.4.0-py3-none-any.whl (44 kB)\n",
            "\u001b[2K   \u001b[90m━━━━━━━━━━━━━━━━━━━━━━━━━━━━━━━━━━━━━━━━\u001b[0m \u001b[32m44.1/44.1 kB\u001b[0m \u001b[31m3.9 MB/s\u001b[0m eta \u001b[36m0:00:00\u001b[0m\n",
            "\u001b[?25hDownloading exqalibur-1.0.0-cp312-cp312-manylinux_2_17_x86_64.manylinux2014_x86_64.whl (2.5 MB)\n",
            "\u001b[2K   \u001b[90m━━━━━━━━━━━━━━━━━━━━━━━━━━━━━━━━━━━━━━━━\u001b[0m \u001b[32m2.5/2.5 MB\u001b[0m \u001b[31m47.0 MB/s\u001b[0m eta \u001b[36m0:00:00\u001b[0m\n",
            "\u001b[?25hDownloading latexcodec-3.0.1-py3-none-any.whl (18 kB)\n",
            "Installing collected packages: drawsvg, latexcodec, exqalibur, perceval-quandela\n",
            "Successfully installed drawsvg-2.4.0 exqalibur-1.0.0 latexcodec-3.0.1 perceval-quandela-1.0.1\n"
          ]
        }
      ],
      "source": [
        "!pip install perceval-quandela"
      ]
    },
    {
      "cell_type": "code",
      "source": [
        "import perceval as pcvl\n",
        "from tqdm.notebook import tqdm\n",
        "import time\n",
        "pcvl.__version__"
      ],
      "metadata": {
        "colab": {
          "base_uri": "https://localhost:8080/",
          "height": 36
        },
        "id": "WLICxcyNpeAv",
        "outputId": "0121a6b1-df89-454e-e8d4-4c1a50bfd233"
      },
      "execution_count": 2,
      "outputs": [
        {
          "output_type": "execute_result",
          "data": {
            "text/plain": [
              "'1.0.1'"
            ],
            "application/vnd.google.colaboratory.intrinsic+json": {
              "type": "string"
            }
          },
          "metadata": {},
          "execution_count": 2
        }
      ]
    },
    {
      "cell_type": "code",
      "source": [
        "from perceval.algorithm import Sampler\n",
        "\n",
        "input_state = pcvl.BasicState(\"|1,1>\")  # Inject one photon on each input mode...\n",
        "circuit = pcvl.BS()                     # ... of a perfect beam splitter\n",
        "noise_model = pcvl.NoiseModel(transmittance=0.05, indistinguishability=0.85, g2=0.03)  # Define some noise level (No noise if: transmittance=1, indistinguishability=1, g2=0)\n",
        "\n",
        "processor = pcvl.Processor(\"SLOS\", circuit, noise=noise_model)  # Use SLOS, a strong simulation back-end\n",
        "processor.min_detected_photons_filter(1)  # Accept all output states containing at least 1 photon\n",
        "processor.with_input(input_state)\n",
        "\n",
        "nsamples = 200_000  # Number of samples to generate\n",
        "\n",
        "sampler = Sampler(processor)\n",
        "samples = sampler.sample_count(nsamples)['results']  # Ask to generate 10k samples, and get back only the raw results\n",
        "probs = sampler.probs()['results']  # Ask for the exact probabilities\n",
        "print(f\"Samples: {samples}\")\n",
        "print(f\"Probabilities: {probs}\")"
      ],
      "metadata": {
        "colab": {
          "base_uri": "https://localhost:8080/"
        },
        "id": "Tvat2HJHpoCo",
        "outputId": "3607bf52-c8a4-493e-8199-a92217bb6f2d"
      },
      "execution_count": 3,
      "outputs": [
        {
          "output_type": "stream",
          "name": "stdout",
          "text": [
            "Samples: {\n",
            "  |0,3>: 1\n",
            "  |1,0>: 97352\n",
            "  |1,2>: 2\n",
            "  |2,1>: 1\n",
            "  |2,0>: 2349\n",
            "  |0,2>: 2425\n",
            "  |1,1>: 548\n",
            "  |0,1>: 97322\n",
            "}\n",
            "Probabilities: {\n",
            "\t|0,1>: 0.48661503189281285\n",
            "\t|1,1>: 0.0026380835329784464\n",
            "\t|0,2>: 0.012046103707492211\n",
            "\t|2,0>: 0.012046103707492211\n",
            "\t|2,1>: 1.0715712195941614e-05\n",
            "\t|1,2>: 1.0715712195941614e-05\n",
            "\t|1,0>: 0.48661503189281285\n",
            "\t|0,3>: 9.106921009707082e-06\n",
            "\t|3,0>: 9.106921009707082e-06\n",
            "}\n"
          ]
        }
      ]
    }
  ]
}